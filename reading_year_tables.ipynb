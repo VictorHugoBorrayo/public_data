{
 "cells": [
  {
   "cell_type": "markdown",
   "metadata": {},
   "source": [
    "# Leyendo pdfs de un año completo"
   ]
  },
  {
   "cell_type": "code",
   "execution_count": 5,
   "metadata": {},
   "outputs": [],
   "source": [
    "import os"
   ]
  },
  {
   "cell_type": "code",
   "execution_count": 6,
   "metadata": {},
   "outputs": [],
   "source": [
    "# Leyendo año completo\n",
    "year = 2025\n",
    "session_type = 'ORDINARIA'"
   ]
  },
  {
   "cell_type": "code",
   "execution_count": 7,
   "metadata": {},
   "outputs": [
    {
     "data": {
      "text/plain": [
       "['S_6', 'S_1', 'S_8', 'S_9', 'S_7']"
      ]
     },
     "execution_count": 7,
     "metadata": {},
     "output_type": "execute_result"
    }
   ],
   "source": [
    "#OBTENIENDO CARPETAS\n",
    "base_folder = f'RAW-DATA/{year}/{session_type}'\n",
    "#Leyendo todas las carpetas en la carpeta base\n",
    "folders = os.listdir(base_folder)\n",
    "folders[0:5]"
   ]
  },
  {
   "cell_type": "code",
   "execution_count": 8,
   "metadata": {},
   "outputs": [
    {
     "name": "stderr",
     "output_type": "stream",
     "text": [
      "/Users/victor.borrayo/Desktop/Congreso/data-analysis/lib/python3.11/site-packages/tqdm/auto.py:21: TqdmWarning: IProgress not found. Please update jupyter and ipywidgets. See https://ipywidgets.readthedocs.io/en/stable/user_install.html\n",
      "  from .autonotebook import tqdm as notebook_tqdm\n",
      "Executing:   0%|          | 0/11 [00:00<?, ?cell/s][IPKernelApp] WARNING | Unknown error in handling startup files:\n",
      "Executing: 100%|██████████| 11/11 [00:02<00:00,  4.98cell/s]\n",
      "Executing:   0%|          | 0/11 [00:00<?, ?cell/s][IPKernelApp] WARNING | Unknown error in handling startup files:\n",
      "Executing: 100%|██████████| 11/11 [00:01<00:00,  5.64cell/s]\n",
      "Executing:   0%|          | 0/11 [00:00<?, ?cell/s][IPKernelApp] WARNING | Unknown error in handling startup files:\n",
      "Executing: 100%|██████████| 11/11 [00:02<00:00,  4.62cell/s]\n",
      "Executing:   0%|          | 0/11 [00:00<?, ?cell/s][IPKernelApp] WARNING | Unknown error in handling startup files:\n",
      "Executing: 100%|██████████| 11/11 [00:09<00:00,  1.21cell/s]\n",
      "Executing:   0%|          | 0/11 [00:00<?, ?cell/s][IPKernelApp] WARNING | Unknown error in handling startup files:\n",
      "Executing: 100%|██████████| 11/11 [00:12<00:00,  1.14s/cell]\n",
      "Executing:   0%|          | 0/11 [00:00<?, ?cell/s][IPKernelApp] WARNING | Unknown error in handling startup files:\n",
      "Executing: 100%|██████████| 11/11 [00:03<00:00,  3.38cell/s]\n",
      "Executing:   0%|          | 0/11 [00:00<?, ?cell/s][IPKernelApp] WARNING | Unknown error in handling startup files:\n",
      "Executing: 100%|██████████| 11/11 [00:01<00:00,  7.18cell/s]\n",
      "Executing:   0%|          | 0/11 [00:00<?, ?cell/s][IPKernelApp] WARNING | Unknown error in handling startup files:\n",
      "Executing: 100%|██████████| 11/11 [00:03<00:00,  3.47cell/s]\n",
      "Executing:   0%|          | 0/11 [00:00<?, ?cell/s][IPKernelApp] WARNING | Unknown error in handling startup files:\n",
      "Executing: 100%|██████████| 11/11 [00:01<00:00,  5.84cell/s]\n",
      "Executing:   0%|          | 0/11 [00:00<?, ?cell/s][IPKernelApp] WARNING | Unknown error in handling startup files:\n",
      "Executing: 100%|██████████| 11/11 [00:02<00:00,  4.01cell/s]\n",
      "Executing:   0%|          | 0/11 [00:00<?, ?cell/s][IPKernelApp] WARNING | Unknown error in handling startup files:\n",
      "Executing: 100%|██████████| 11/11 [00:10<00:00,  1.02cell/s]\n",
      "Executing:   0%|          | 0/11 [00:00<?, ?cell/s][IPKernelApp] WARNING | Unknown error in handling startup files:\n",
      "Executing: 100%|██████████| 11/11 [00:01<00:00,  5.84cell/s]\n",
      "Executing:   0%|          | 0/11 [00:00<?, ?cell/s][IPKernelApp] WARNING | Unknown error in handling startup files:\n",
      "Executing: 100%|██████████| 11/11 [00:01<00:00,  5.80cell/s]\n",
      "Executing:   0%|          | 0/11 [00:00<?, ?cell/s][IPKernelApp] WARNING | Unknown error in handling startup files:\n",
      "Executing: 100%|██████████| 11/11 [00:01<00:00,  5.81cell/s]\n",
      "Executing:   0%|          | 0/11 [00:00<?, ?cell/s][IPKernelApp] WARNING | Unknown error in handling startup files:\n",
      "Executing: 100%|██████████| 11/11 [00:02<00:00,  4.74cell/s]\n",
      "Executing:   0%|          | 0/11 [00:00<?, ?cell/s][IPKernelApp] WARNING | Unknown error in handling startup files:\n",
      "Executing: 100%|██████████| 11/11 [00:01<00:00,  5.81cell/s]\n",
      "Executing:   0%|          | 0/11 [00:00<?, ?cell/s][IPKernelApp] WARNING | Unknown error in handling startup files:\n",
      "Executing: 100%|██████████| 11/11 [00:01<00:00,  7.40cell/s]\n"
     ]
    }
   ],
   "source": [
    "import papermill as pm\n",
    "for folder in folders:\n",
    "    relative_destination = f'{year}/{session_type}/{folder}'\n",
    "    pm.execute_notebook(\n",
    "        'reading_congreso_pdf.ipynb',\n",
    "        'temp_output.ipynb',\n",
    "        parameters={\n",
    "            'relative_destination': relative_destination,\n",
    "            'session_type': session_type\n",
    "        }\n",
    "    )"
   ]
  },
  {
   "cell_type": "code",
   "execution_count": null,
   "metadata": {},
   "outputs": [],
   "source": []
  }
 ],
 "metadata": {
  "kernelspec": {
   "display_name": "data-analysis",
   "language": "python",
   "name": "python3"
  },
  "language_info": {
   "codemirror_mode": {
    "name": "ipython",
    "version": 3
   },
   "file_extension": ".py",
   "mimetype": "text/x-python",
   "name": "python",
   "nbconvert_exporter": "python",
   "pygments_lexer": "ipython3",
   "version": "3.11.5"
  }
 },
 "nbformat": 4,
 "nbformat_minor": 2
}
